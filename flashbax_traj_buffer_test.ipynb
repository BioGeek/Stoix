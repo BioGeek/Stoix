{
 "cells": [
  {
   "cell_type": "markdown",
   "metadata": {},
   "source": [
    "# ***Flashbax Test*** "
   ]
  },
  {
   "cell_type": "code",
   "execution_count": 3,
   "metadata": {},
   "outputs": [],
   "source": [
    "from stoix.systems.q_learning.dqn_types import Transition\n",
    "import flashbax as fbx\n",
    "import jax\n",
    "import jax.numpy as jnp\n",
    "import gymnax\n",
    "from dataclasses import dataclass"
   ]
  },
  {
   "cell_type": "code",
   "execution_count": 4,
   "metadata": {},
   "outputs": [],
   "source": [
    "@dataclass\n",
    "class Config:\n",
    "    rollout_length = 3  # Number of environment steps per vectorised environment.\n",
    "    buffer_size = 500_000  # Total effective size of the replay buffer across all devices and vectorised update steps. This means each device has a buffer of size buffer_size//num_devices which is further divided by the update_batch_size. This value must be divisible by num_devices*update_batch_size.\n",
    "    batch_size = 256  # Total effective number of samples to train on. This means each device has a batch size of batch_size/num_devices which is further divided by the update_batch_size. This value must be divisible by num_devices*update_batch_size.\n",
    "\n",
    "\n",
    "config = Config()"
   ]
  },
  {
   "cell_type": "code",
   "execution_count": 5,
   "metadata": {},
   "outputs": [],
   "source": [
    "def tree_shape(tree):\n",
    "    return jax.tree_map(lambda x: x.shape, tree)"
   ]
  },
  {
   "cell_type": "code",
   "execution_count": 6,
   "metadata": {},
   "outputs": [],
   "source": [
    "env, env_params = gymnax.make(\"CartPole-v1\")\n",
    "init_x = env.reset(jax.random.PRNGKey(0))[0]\n",
    "init_x = jax.tree_util.tree_map(lambda x: x[None, ...], init_x)\n",
    "dummy_transition = Transition(\n",
    "    obs=jax.tree_util.tree_map(lambda x: x.squeeze(0), init_x),\n",
    "    action=jnp.zeros((), dtype=int),\n",
    "    reward=jnp.zeros((), dtype=float),\n",
    "    done=jnp.zeros((), dtype=bool),\n",
    "    next_obs=jax.tree_util.tree_map(lambda x: x.squeeze(0), init_x),\n",
    "    info={\n",
    "        \"episode_return\": jnp.zeros((config.rollout_length), dtype=float),\n",
    "        \"episode_length\": jnp.zeros((config.rollout_length), dtype=int),\n",
    "        \"is_terminal_step\": jnp.zeros((config.rollout_length), dtype=bool),\n",
    "    },\n",
    ")"
   ]
  },
  {
   "cell_type": "code",
   "execution_count": 7,
   "metadata": {},
   "outputs": [
    {
     "data": {
      "text/plain": [
       "Transition(obs=Array([ 0.04653214, -0.02748411,  0.01330299, -0.02036182], dtype=float32), action=Array(0, dtype=int32), reward=Array(0., dtype=float32), done=Array(False, dtype=bool), next_obs=Array([ 0.04653214, -0.02748411,  0.01330299, -0.02036182], dtype=float32), info={'episode_return': Array([0., 0., 0.], dtype=float32), 'episode_length': Array([0, 0, 0], dtype=int32), 'is_terminal_step': Array([False, False, False], dtype=bool)})"
      ]
     },
     "execution_count": 7,
     "metadata": {},
     "output_type": "execute_result"
    }
   ],
   "source": [
    "dummy_transition"
   ]
  },
  {
   "cell_type": "code",
   "execution_count": 8,
   "metadata": {},
   "outputs": [
    {
     "data": {
      "text/plain": [
       "Transition(obs=(4,), action=(), reward=(), done=(), next_obs=(4,), info={'episode_length': (3,), 'episode_return': (3,), 'is_terminal_step': (3,)})"
      ]
     },
     "execution_count": 8,
     "metadata": {},
     "output_type": "execute_result"
    }
   ],
   "source": [
    "tree_shape(dummy_transition)"
   ]
  },
  {
   "cell_type": "code",
   "execution_count": 46,
   "metadata": {},
   "outputs": [],
   "source": [
    "add_batch_size=1\n",
    "buffer_fn = fbx.make_trajectory_buffer(\n",
    "    max_length_time_axis=config.buffer_size,  # Maximum length of the buffer along the time axis.\n",
    "    min_length_time_axis=config.batch_size,  # Minimum length across the time axis before we can sample.\n",
    "    sample_batch_size=config.batch_size,  # Batch size of trajectories sampled from the buffer.\n",
    "    add_batch_size=add_batch_size,  # Batch size of trajectories added to the buffer.\n",
    "    sample_sequence_length=config.rollout_length,  # Sequence length of trajectories sampled from the buffer.\n",
    "    period=config.rollout_length,  # Period at which we sample trajectories from the buffer.\n",
    ")"
   ]
  },
  {
   "cell_type": "code",
   "execution_count": 47,
   "metadata": {},
   "outputs": [
    {
     "data": {
      "text/plain": [
       "TrajectoryBufferState(experience=Transition(obs=(1, 500000, 4), action=(1, 500000), reward=(1, 500000), done=(1, 500000), next_obs=(1, 500000, 4), info={'episode_length': (1, 500000, 3), 'episode_return': (1, 500000, 3), 'is_terminal_step': (1, 500000, 3)}), current_index=(), is_full=())"
      ]
     },
     "execution_count": 47,
     "metadata": {},
     "output_type": "execute_result"
    }
   ],
   "source": [
    "buffer_states = buffer_fn.init(dummy_transition)\n",
    "tree_shape(buffer_states)"
   ]
  },
  {
   "cell_type": "markdown",
   "metadata": {},
   "source": [
    "## **Training Scenario**\n",
    "\n",
    "Batch dimension of the warmup batch == add_batch_size and transitions have shape (rollout_length, *)"
   ]
  },
  {
   "cell_type": "code",
   "execution_count": 48,
   "metadata": {},
   "outputs": [],
   "source": [
    "broadcast_fn = lambda x: jnp.broadcast_to(x, (add_batch_size, config.rollout_length, *x.shape))\n",
    "fake_batch_sequence = jax.tree_map(broadcast_fn, dummy_transition)"
   ]
  },
  {
   "cell_type": "code",
   "execution_count": 49,
   "metadata": {},
   "outputs": [
    {
     "data": {
      "text/plain": [
       "Transition(obs=(1, 3, 4), action=(1, 3), reward=(1, 3), done=(1, 3), next_obs=(1, 3, 4), info={'episode_length': (1, 3, 3), 'episode_return': (1, 3, 3), 'is_terminal_step': (1, 3, 3)})"
      ]
     },
     "execution_count": 49,
     "metadata": {},
     "output_type": "execute_result"
    }
   ],
   "source": [
    "tree_shape(fake_batch_sequence)"
   ]
  },
  {
   "cell_type": "code",
   "execution_count": 51,
   "metadata": {},
   "outputs": [],
   "source": [
    "buffer_states = buffer_fn.add(buffer_states, fake_batch_sequence)"
   ]
  },
  {
   "cell_type": "code",
   "execution_count": 52,
   "metadata": {},
   "outputs": [
    {
     "data": {
      "text/plain": [
       "TrajectoryBufferSample(experience=Transition(obs=(256, 3, 4), action=(256, 3), reward=(256, 3), done=(256, 3), next_obs=(256, 3, 4), info={'episode_length': (256, 3, 3), 'episode_return': (256, 3, 3), 'is_terminal_step': (256, 3, 3)}))"
      ]
     },
     "execution_count": 52,
     "metadata": {},
     "output_type": "execute_result"
    }
   ],
   "source": [
    "sample = buffer_fn.sample(buffer_states, jax.random.key(0))\n",
    "tree_shape(sample)"
   ]
  },
  {
   "cell_type": "markdown",
   "metadata": {},
   "source": [
    "## **Warmup Scenario**\n",
    "\n",
    "Batch dimension of the warmup batch != add_batch_size and transitions have shape (1, *) instead of (rollout_length, *)"
   ]
  },
  {
   "cell_type": "code",
   "execution_count": 72,
   "metadata": {},
   "outputs": [
    {
     "data": {
      "text/plain": [
       "TrajectoryBufferState(experience=Transition(obs=(1, 500000, 4), action=(1, 500000), reward=(1, 500000), done=(1, 500000), next_obs=(1, 500000, 4), info={'episode_length': (1, 500000, 3), 'episode_return': (1, 500000, 3), 'is_terminal_step': (1, 500000, 3)}), current_index=(), is_full=())"
      ]
     },
     "execution_count": 72,
     "metadata": {},
     "output_type": "execute_result"
    }
   ],
   "source": [
    "def buffer_seq_add(buffer_states, transition_batch: Transition, config: Config = config):\n",
    "    \"\"\"\n",
    "    Sequentially adds transitions from a warmup Transition batch to the replay\n",
    "    buffer to match the `add_batch_size` requirement of the TrajectoryBuffer.\n",
    "    Assumes n_warmup_steps % rollout_length == 0.\n",
    "    \"\"\"\n",
    "\n",
    "    def _add_single_transition(buffer_states, transition):\n",
    "        transition = jax.tree_map(lambda x:jnp.expand_dims(x, axis=0), transition)\n",
    "        buffer_states = buffer_fn.add(buffer_states, transition)\n",
    "        return buffer_states, None\n",
    "\n",
    "    def _reshape_fn(x: jnp.ndarray):\n",
    "        \"\"\"\n",
    "        Reshape a batch of transition with shape (n_agents, n_warmup_steps, *x)\n",
    "        to (-1, rollout_length, *x) to be added to the replay buffer.\n",
    "        \"\"\"\n",
    "        return x.reshape(-1, config.rollout_length, *x.shape[2:])\n",
    "\n",
    "    reshaped_batch = jax.tree_util.tree_map(_reshape_fn, transition_batch)\n",
    "    # return reshaped_batch\n",
    "    buffer_states, _ = jax.lax.scan(\n",
    "        lambda buffer_states, transition: _add_single_transition(buffer_states, transition),\n",
    "        buffer_states,\n",
    "        reshaped_batch,\n",
    "    )\n",
    "\n",
    "    return buffer_states\n",
    "\n",
    "w_broadcast_fn = lambda x: jnp.broadcast_to(x, (1024, 33, *x.shape)) # (n_envs, n_warmup_steps, *x_shape)\n",
    "w_fake_batch_sequence = jax.tree_map(w_broadcast_fn, dummy_transition)\n",
    "\n",
    "buffer_states = buffer_seq_add(buffer_states, w_fake_batch_sequence, config)\n",
    "\n",
    "tree_shape(buffer_states)"
   ]
  },
  {
   "cell_type": "code",
   "execution_count": 73,
   "metadata": {},
   "outputs": [
    {
     "data": {
      "text/plain": [
       "TrajectoryBufferSample(experience=Transition(obs=(256, 3, 4), action=(256, 3), reward=(256, 3), done=(256, 3), next_obs=(256, 3, 4), info={'episode_length': (256, 3, 3), 'episode_return': (256, 3, 3), 'is_terminal_step': (256, 3, 3)}))"
      ]
     },
     "execution_count": 73,
     "metadata": {},
     "output_type": "execute_result"
    }
   ],
   "source": [
    "sample = buffer_fn.sample(buffer_states, jax.random.key(0))\n",
    "tree_shape(sample)"
   ]
  }
 ],
 "metadata": {
  "kernelspec": {
   "display_name": "Python 3",
   "language": "python",
   "name": "python3"
  },
  "language_info": {
   "codemirror_mode": {
    "name": "ipython",
    "version": 3
   },
   "file_extension": ".py",
   "mimetype": "text/x-python",
   "name": "python",
   "nbconvert_exporter": "python",
   "pygments_lexer": "ipython3",
   "version": "3.10.7"
  }
 },
 "nbformat": 4,
 "nbformat_minor": 2
}
