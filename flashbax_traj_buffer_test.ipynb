{
 "cells": [
  {
   "cell_type": "markdown",
   "metadata": {},
   "source": [
    "# ***Flashbax Test*** "
   ]
  },
  {
   "cell_type": "code",
   "execution_count": 25,
   "metadata": {},
   "outputs": [],
   "source": [
    "from stoix.systems.q_learning.dqn_types import Transition\n",
    "import flashbax as fbx\n",
    "import jax\n",
    "import jax.numpy as jnp\n",
    "import gymnax\n",
    "from dataclasses import dataclass"
   ]
  },
  {
   "cell_type": "code",
   "execution_count": 43,
   "metadata": {},
   "outputs": [],
   "source": [
    "@dataclass\n",
    "class Config:\n",
    "    rollout_length = 3  # Number of environment steps per vectorised environment.\n",
    "    buffer_size = 500_000  # Total effective size of the replay buffer across all devices and vectorised update steps. This means each device has a buffer of size buffer_size//num_devices which is further divided by the update_batch_size. This value must be divisible by num_devices*update_batch_size.\n",
    "    batch_size = 256  # Total effective number of samples to train on. This means each device has a batch size of batch_size/num_devices which is further divided by the update_batch_size. This value must be divisible by num_devices*update_batch_size.\n",
    "\n",
    "\n",
    "config = Config()"
   ]
  },
  {
   "cell_type": "code",
   "execution_count": 44,
   "metadata": {},
   "outputs": [],
   "source": [
    "def tree_shape(tree):\n",
    "    return jax.tree_map(lambda x: x.shape, tree)"
   ]
  },
  {
   "cell_type": "code",
   "execution_count": 62,
   "metadata": {},
   "outputs": [],
   "source": [
    "env, env_params = gymnax.make(\"CartPole-v1\")\n",
    "init_x = env.reset(jax.random.PRNGKey(0))[0]\n",
    "dummy_transition = Transition(\n",
    "    obs=jnp.broadcast_to(init_x, shape=(config.rollout_length, *init_x.squeeze().shape)),\n",
    "    action=jnp.zeros((config.rollout_length), dtype=int),\n",
    "    reward=jnp.zeros((config.rollout_length), dtype=float),\n",
    "    done=jnp.zeros((config.rollout_length), dtype=bool),\n",
    "    next_obs=jnp.broadcast_to(init_x, shape=(config.rollout_length, *init_x.squeeze().shape)),\n",
    "    info={\n",
    "        \"episode_return\": jnp.zeros((config.rollout_length), dtype=float),\n",
    "        \"episode_length\": jnp.zeros((config.rollout_length), dtype=int),\n",
    "        \"is_terminal_step\": jnp.zeros((config.rollout_length), dtype=bool),\n",
    "    },\n",
    ")\n"
   ]
  },
  {
   "cell_type": "code",
   "execution_count": 63,
   "metadata": {},
   "outputs": [
    {
     "data": {
      "text/plain": [
       "Transition(obs=Array([[ 0.04653214, -0.02748411,  0.01330299, -0.02036182],\n",
       "       [ 0.04653214, -0.02748411,  0.01330299, -0.02036182],\n",
       "       [ 0.04653214, -0.02748411,  0.01330299, -0.02036182]],      dtype=float32), action=Array([0, 0, 0], dtype=int32), reward=Array([0., 0., 0.], dtype=float32), done=Array([False, False, False], dtype=bool), next_obs=Array([[ 0.04653214, -0.02748411,  0.01330299, -0.02036182],\n",
       "       [ 0.04653214, -0.02748411,  0.01330299, -0.02036182],\n",
       "       [ 0.04653214, -0.02748411,  0.01330299, -0.02036182]],      dtype=float32), info={'episode_return': Array([0., 0., 0.], dtype=float32), 'episode_length': Array([0, 0, 0], dtype=int32), 'is_terminal_step': Array([False, False, False], dtype=bool)})"
      ]
     },
     "execution_count": 63,
     "metadata": {},
     "output_type": "execute_result"
    }
   ],
   "source": [
    "dummy_transition"
   ]
  },
  {
   "cell_type": "code",
   "execution_count": 64,
   "metadata": {},
   "outputs": [
    {
     "data": {
      "text/plain": [
       "Transition(obs=(3, 4), action=(3,), reward=(3,), done=(3,), next_obs=(3, 4), info={'episode_length': (3,), 'episode_return': (3,), 'is_terminal_step': (3,)})"
      ]
     },
     "execution_count": 64,
     "metadata": {},
     "output_type": "execute_result"
    }
   ],
   "source": [
    "tree_shape(dummy_transition)"
   ]
  },
  {
   "cell_type": "code",
   "execution_count": 65,
   "metadata": {},
   "outputs": [],
   "source": [
    "buffer_fn = fbx.make_trajectory_buffer(\n",
    "    max_length_time_axis=config.buffer_size,  # Maximum length of the buffer along the time axis.\n",
    "    min_length_time_axis=config.batch_size,  # Minimum length across the time axis before we can sample.\n",
    "    sample_batch_size=config.batch_size,  # Batch size of trajectories sampled from the buffer.\n",
    "    add_batch_size=config.rollout_length,  # Batch size of trajectories added to the buffer.\n",
    "    sample_sequence_length=config.rollout_length,  # Sequence length of trajectories sampled from the buffer.\n",
    "    period=config.rollout_length - 1,  # Period at which we sample trajectories from the buffer.\n",
    ")\n",
    "add_sequence_length=config.rollout_length,  # Sequence length of trajectories added to the buffer."
   ]
  },
  {
   "cell_type": "code",
   "execution_count": 66,
   "metadata": {},
   "outputs": [
    {
     "data": {
      "text/plain": [
       "TrajectoryBufferState(experience=Transition(obs=(3, 500000, 3, 4), action=(3, 500000, 3), reward=(3, 500000, 3), done=(3, 500000, 3), next_obs=(3, 500000, 3, 4), info={'episode_length': (3, 500000, 3), 'episode_return': (3, 500000, 3), 'is_terminal_step': (3, 500000, 3)}), current_index=(), is_full=())"
      ]
     },
     "execution_count": 66,
     "metadata": {},
     "output_type": "execute_result"
    }
   ],
   "source": [
    "buffer_states = buffer_fn.init(dummy_transition)\n",
    "tree_shape(buffer_states)"
   ]
  },
  {
   "cell_type": "code",
   "execution_count": 67,
   "metadata": {},
   "outputs": [
    {
     "data": {
      "text/plain": [
       "Transition(obs=Array([[ 0.04653214, -0.02748411,  0.01330299, -0.02036182],\n",
       "       [ 0.04653214, -0.02748411,  0.01330299, -0.02036182],\n",
       "       [ 0.04653214, -0.02748411,  0.01330299, -0.02036182]],      dtype=float32), action=Array([0, 0, 0], dtype=int32), reward=Array([0., 0., 0.], dtype=float32), done=Array([False, False, False], dtype=bool), next_obs=Array([[ 0.04653214, -0.02748411,  0.01330299, -0.02036182],\n",
       "       [ 0.04653214, -0.02748411,  0.01330299, -0.02036182],\n",
       "       [ 0.04653214, -0.02748411,  0.01330299, -0.02036182]],      dtype=float32), info={'episode_return': Array([0., 0., 0.], dtype=float32), 'episode_length': Array([0, 0, 0], dtype=int32), 'is_terminal_step': Array([False, False, False], dtype=bool)})"
      ]
     },
     "execution_count": 67,
     "metadata": {},
     "output_type": "execute_result"
    }
   ],
   "source": [
    "dummy_transition"
   ]
  },
  {
   "cell_type": "code",
   "execution_count": 68,
   "metadata": {},
   "outputs": [
    {
     "ename": "AssertionError",
     "evalue": "[Chex] Assertion assert_tree_shape_prefix failed: Tree leaf 'action' has a shape of length 1 (shape=(3,)) which is smaller than the expected prefix of length 2 (prefix=(3, 4)).\nTree leaf 'reward' has a shape of length 1 (shape=(3,)) which is smaller than the expected prefix of length 2 (prefix=(3, 4)).\nTree leaf 'done' has a shape of length 1 (shape=(3,)) which is smaller than the expected prefix of length 2 (prefix=(3, 4)).\nTree leaf 'info/episode_length' has a shape of length 1 (shape=(3,)) which is smaller than the expected prefix of length 2 (prefix=(3, 4)).\nTree leaf 'info/episode_return' has a shape of length 1 (shape=(3,)) which is smaller than the expected prefix of length 2 (prefix=(3, 4)).\nTree leaf 'info/is_terminal_step' has a shape of length 1 (shape=(3,)) which is smaller than the expected prefix of length 2 (prefix=(3, 4)).",
     "output_type": "error",
     "traceback": [
      "\u001b[1;31m---------------------------------------------------------------------------\u001b[0m",
      "\u001b[1;31mAssertionError\u001b[0m                            Traceback (most recent call last)",
      "Cell \u001b[1;32mIn[68], line 1\u001b[0m\n\u001b[1;32m----> 1\u001b[0m buffer_states \u001b[38;5;241m=\u001b[39m \u001b[43mbuffer_fn\u001b[49m\u001b[38;5;241;43m.\u001b[39;49m\u001b[43madd\u001b[49m\u001b[43m(\u001b[49m\u001b[43mbuffer_states\u001b[49m\u001b[43m,\u001b[49m\u001b[43m \u001b[49m\u001b[43mdummy_transition\u001b[49m\u001b[43m)\u001b[49m\n",
      "File \u001b[1;32mc:\\Users\\ryanp\\AppData\\Local\\Programs\\Python\\Python310\\lib\\site-packages\\flashbax\\buffers\\trajectory_buffer.py:143\u001b[0m, in \u001b[0;36madd\u001b[1;34m(state, batch)\u001b[0m\n\u001b[0;32m    138\u001b[0m chex\u001b[38;5;241m.\u001b[39massert_axis_dimension_lteq(\n\u001b[0;32m    139\u001b[0m     jax\u001b[38;5;241m.\u001b[39mtree_util\u001b[38;5;241m.\u001b[39mtree_leaves(batch)[\u001b[38;5;241m0\u001b[39m], \u001b[38;5;241m1\u001b[39m, max_length_time_axis\n\u001b[0;32m    140\u001b[0m )\n\u001b[0;32m    142\u001b[0m \u001b[38;5;66;03m# Get the length of the sequence of the batch.\u001b[39;00m\n\u001b[1;32m--> 143\u001b[0m seq_len \u001b[38;5;241m=\u001b[39m \u001b[43mutils\u001b[49m\u001b[38;5;241;43m.\u001b[39;49m\u001b[43mget_tree_shape_prefix\u001b[49m\u001b[43m(\u001b[49m\u001b[43mbatch\u001b[49m\u001b[43m,\u001b[49m\u001b[43m \u001b[49m\u001b[43mn_axes\u001b[49m\u001b[38;5;241;43m=\u001b[39;49m\u001b[38;5;241;43m2\u001b[39;49m\u001b[43m)\u001b[49m[\u001b[38;5;241m1\u001b[39m]\n\u001b[0;32m    145\u001b[0m \u001b[38;5;66;03m# Calculate index location in the state where we will assign the batch of experience.\u001b[39;00m\n\u001b[0;32m    146\u001b[0m indices \u001b[38;5;241m=\u001b[39m (jnp\u001b[38;5;241m.\u001b[39marange(seq_len) \u001b[38;5;241m+\u001b[39m state\u001b[38;5;241m.\u001b[39mcurrent_index) \u001b[38;5;241m%\u001b[39m max_length_time_axis\n",
      "File \u001b[1;32mc:\\Users\\ryanp\\AppData\\Local\\Programs\\Python\\Python310\\lib\\site-packages\\flashbax\\utils.py:29\u001b[0m, in \u001b[0;36mget_tree_shape_prefix\u001b[1;34m(tree, n_axes)\u001b[0m\n\u001b[0;32m     27\u001b[0m leaf \u001b[38;5;241m=\u001b[39m flat_tree[\u001b[38;5;241m0\u001b[39m]\n\u001b[0;32m     28\u001b[0m leading_axis_shape \u001b[38;5;241m=\u001b[39m leaf\u001b[38;5;241m.\u001b[39mshape[\u001b[38;5;241m0\u001b[39m:n_axes]\n\u001b[1;32m---> 29\u001b[0m \u001b[43mchex\u001b[49m\u001b[38;5;241;43m.\u001b[39;49m\u001b[43massert_tree_shape_prefix\u001b[49m\u001b[43m(\u001b[49m\u001b[43mtree\u001b[49m\u001b[43m,\u001b[49m\u001b[43m \u001b[49m\u001b[43mleading_axis_shape\u001b[49m\u001b[43m)\u001b[49m\n\u001b[0;32m     30\u001b[0m \u001b[38;5;28;01mreturn\u001b[39;00m leading_axis_shape\n",
      "File \u001b[1;32mc:\\Users\\ryanp\\AppData\\Local\\Programs\\Python\\Python310\\lib\\site-packages\\chex\\_src\\asserts_internal.py:278\u001b[0m, in \u001b[0;36mchex_assertion.<locals>._chex_assert_fn\u001b[1;34m(custom_message, custom_message_format_vars, include_default_message, exception_type, *args, **kwargs)\u001b[0m\n\u001b[0;32m    276\u001b[0m \u001b[38;5;28;01melse\u001b[39;00m:\n\u001b[0;32m    277\u001b[0m   \u001b[38;5;28;01mtry\u001b[39;00m:\n\u001b[1;32m--> 278\u001b[0m     host_assertion_fn(\n\u001b[0;32m    279\u001b[0m         \u001b[38;5;241m*\u001b[39margs,\n\u001b[0;32m    280\u001b[0m         custom_message\u001b[38;5;241m=\u001b[39mcustom_message,\n\u001b[0;32m    281\u001b[0m         custom_message_format_vars\u001b[38;5;241m=\u001b[39mcustom_message_format_vars,\n\u001b[0;32m    282\u001b[0m         include_default_message\u001b[38;5;241m=\u001b[39minclude_default_message,\n\u001b[0;32m    283\u001b[0m         exception_type\u001b[38;5;241m=\u001b[39mexception_type,\n\u001b[0;32m    284\u001b[0m         \u001b[38;5;241m*\u001b[39m\u001b[38;5;241m*\u001b[39mkwargs)\n\u001b[0;32m    285\u001b[0m   \u001b[38;5;28;01mexcept\u001b[39;00m jax\u001b[38;5;241m.\u001b[39merrors\u001b[38;5;241m.\u001b[39mConcretizationTypeError \u001b[38;5;28;01mas\u001b[39;00m exc:\n\u001b[0;32m    286\u001b[0m     msg \u001b[38;5;241m=\u001b[39m (\u001b[38;5;124m\"\u001b[39m\u001b[38;5;124mChex assertion detected `ConcretizationTypeError`: it is very \u001b[39m\u001b[38;5;124m\"\u001b[39m\n\u001b[0;32m    287\u001b[0m            \u001b[38;5;124m\"\u001b[39m\u001b[38;5;124mlikely that it tried to access tensors\u001b[39m\u001b[38;5;124m'\u001b[39m\u001b[38;5;124m values during tracing. \u001b[39m\u001b[38;5;124m\"\u001b[39m\n\u001b[0;32m    288\u001b[0m            \u001b[38;5;124m\"\u001b[39m\u001b[38;5;124mMake sure that you defined a jittable version of this chex \u001b[39m\u001b[38;5;124m\"\u001b[39m\n\u001b[0;32m    289\u001b[0m            \u001b[38;5;124m\"\u001b[39m\u001b[38;5;124massertion; if that does not help, please file a bug.\u001b[39m\u001b[38;5;124m\"\u001b[39m)\n",
      "File \u001b[1;32mc:\\Users\\ryanp\\AppData\\Local\\Programs\\Python\\Python310\\lib\\site-packages\\chex\\_src\\asserts_internal.py:196\u001b[0m, in \u001b[0;36m_make_host_assertion.<locals>._assert_on_host\u001b[1;34m(custom_message, custom_message_format_vars, include_default_message, exception_type, *args, **kwargs)\u001b[0m\n\u001b[0;32m    193\u001b[0m     custom_message \u001b[38;5;241m=\u001b[39m custom_message\u001b[38;5;241m.\u001b[39mformat(\u001b[38;5;241m*\u001b[39mcustom_message_format_vars)\n\u001b[0;32m    194\u001b[0m   error_msg \u001b[38;5;241m=\u001b[39m \u001b[38;5;124mf\u001b[39m\u001b[38;5;124m\"\u001b[39m\u001b[38;5;132;01m{\u001b[39;00merror_msg\u001b[38;5;132;01m}\u001b[39;00m\u001b[38;5;124m [\u001b[39m\u001b[38;5;132;01m{\u001b[39;00mcustom_message\u001b[38;5;132;01m}\u001b[39;00m\u001b[38;5;124m]\u001b[39m\u001b[38;5;124m\"\u001b[39m\n\u001b[1;32m--> 196\u001b[0m \u001b[38;5;28;01mraise\u001b[39;00m exception_type(error_msg)\n",
      "\u001b[1;31mAssertionError\u001b[0m: [Chex] Assertion assert_tree_shape_prefix failed: Tree leaf 'action' has a shape of length 1 (shape=(3,)) which is smaller than the expected prefix of length 2 (prefix=(3, 4)).\nTree leaf 'reward' has a shape of length 1 (shape=(3,)) which is smaller than the expected prefix of length 2 (prefix=(3, 4)).\nTree leaf 'done' has a shape of length 1 (shape=(3,)) which is smaller than the expected prefix of length 2 (prefix=(3, 4)).\nTree leaf 'info/episode_length' has a shape of length 1 (shape=(3,)) which is smaller than the expected prefix of length 2 (prefix=(3, 4)).\nTree leaf 'info/episode_return' has a shape of length 1 (shape=(3,)) which is smaller than the expected prefix of length 2 (prefix=(3, 4)).\nTree leaf 'info/is_terminal_step' has a shape of length 1 (shape=(3,)) which is smaller than the expected prefix of length 2 (prefix=(3, 4))."
     ]
    }
   ],
   "source": [
    "buffer_states = buffer_fn.add(buffer_states, dummy_transition)"
   ]
  },
  {
   "cell_type": "code",
   "execution_count": 35,
   "metadata": {},
   "outputs": [
    {
     "data": {
      "text/plain": [
       "TrajectoryBufferSample(experience=Transition(obs=(85, 1, 3, 4), action=(85, 1, 3), reward=(85, 1, 3), done=(85, 1, 3), next_obs=(85, 1, 3, 4), info={'episode_length': (85, 1, 3), 'episode_return': (85, 1, 3), 'is_terminal_step': (85, 1, 3)}))"
      ]
     },
     "execution_count": 35,
     "metadata": {},
     "output_type": "execute_result"
    }
   ],
   "source": [
    "sample = buffer_fn.sample(buffer_states, jax.random.key(0))\n",
    "tree_shape(sample)"
   ]
  }
 ],
 "metadata": {
  "kernelspec": {
   "display_name": "Python 3",
   "language": "python",
   "name": "python3"
  },
  "language_info": {
   "codemirror_mode": {
    "name": "ipython",
    "version": 3
   },
   "file_extension": ".py",
   "mimetype": "text/x-python",
   "name": "python",
   "nbconvert_exporter": "python",
   "pygments_lexer": "ipython3",
   "version": "3.10.7"
  }
 },
 "nbformat": 4,
 "nbformat_minor": 2
}
